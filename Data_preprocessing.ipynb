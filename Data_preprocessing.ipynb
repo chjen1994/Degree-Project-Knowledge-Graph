{
 "cells": [
  {
   "cell_type": "code",
   "execution_count": 1,
   "metadata": {},
   "outputs": [],
   "source": [
    "import re\n",
    "import os.path\n",
    "\n"
   ]
  },
  {
   "cell_type": "code",
   "execution_count": 2,
   "metadata": {},
   "outputs": [],
   "source": [
    "#TODOS\n",
    "#webpage case"
   ]
  },
  {
   "cell_type": "code",
   "execution_count": 3,
   "metadata": {},
   "outputs": [],
   "source": [
    "def write_file(path, text):\n",
    "    text_file = open(path, \"w\")\n",
    "    text_file.write(text)\n",
    "    text_file.close()\n",
    "\n",
    "\n",
    "def read_file(path):\n",
    "    text= open(path)\n",
    "    text=text.read()\n",
    "    return text\n",
    "\n",
    "#read all the text file in the directory\n",
    "def file_reader(path):\n",
    "    files = []\n",
    "    for r,d,f in os.walk(path):\n",
    "        for file in f:\n",
    "            if '.txt' in file:\n",
    "                files.append(os.path.join(r,file))\n",
    "                \n",
    "    return files\n",
    "\n",
    "def get_10k_files():\n",
    "    files = list();\n",
    "    files = file_reader(my_path+\"/clean_data/item1_business\")\n",
    "    files.sort()\n",
    "    return files"
   ]
  },
  {
   "cell_type": "code",
   "execution_count": 4,
   "metadata": {},
   "outputs": [],
   "source": [
    "def data_preprocessing(text):\n",
    "    text = re.sub(r'\\n\\W\\n', '\\n\\n', text)  # remove non-alphanumeric\n",
    "    text = re.sub(r'\\n\\d+\\n', '\\n\\n', text)  # remove just number line\n",
    "    text = re.sub(r'\\t+', ' ', text)  # replace tab with space\n",
    "    text = re.sub(r'\\n+', '\\n', text)  # remove multiple newlines\n",
    "    # merge splited sentence\n",
    "    text = re.sub(r'\\n\\.', '.', text)  \n",
    "    text = re.sub(r'\\n,', ',', text)\n",
    "    text = re.sub(r'\\n ', ' ', text)\n",
    "    text = re.sub(r' \\n ', ' ', text)\n",
    "    text = re.sub(r'\\n(?=[a-z)(])', '', text)#remove new line is the it doesnt start with capital letter\n",
    "    text = re.sub(r'\\s\\n', '\\n', text)#remove space before new lines\n",
    "    text = re.sub(r'(?<=[^,.!?])(\\n|$)', r'.\\1', text)#add period to new lines\n",
    "    return text\n",
    "    \n"
   ]
  },
  {
   "cell_type": "code",
   "execution_count": 5,
   "metadata": {},
   "outputs": [],
   "source": [
    "import time\n",
    "start_time = time.time()"
   ]
  },
  {
   "cell_type": "code",
   "execution_count": 6,
   "metadata": {},
   "outputs": [
    {
     "name": "stdout",
     "output_type": "stream",
     "text": [
      "/Users/davidren/Desktop/Education/KTH/2019-2020/2020 Spring/Master Thesis/Data/clean_data/item1_business/ACIW_section_2.txt\n",
      "/Users/davidren/Desktop/Education/KTH/2019-2020/2020 Spring/Master Thesis/Data/clean_data/item1_business/ADS_section_3.txt\n",
      "/Users/davidren/Desktop/Education/KTH/2019-2020/2020 Spring/Master Thesis/Data/clean_data/item1_business/AKAM_section_1.txt\n",
      "/Users/davidren/Desktop/Education/KTH/2019-2020/2020 Spring/Master Thesis/Data/clean_data/item1_business/ALRM_section_1.txt\n",
      "/Users/davidren/Desktop/Education/KTH/2019-2020/2020 Spring/Master Thesis/Data/clean_data/item1_business/AMZN_section_1.txt\n",
      "/Users/davidren/Desktop/Education/KTH/2019-2020/2020 Spring/Master Thesis/Data/clean_data/item1_business/BCOR_section_1.txt\n",
      "/Users/davidren/Desktop/Education/KTH/2019-2020/2020 Spring/Master Thesis/Data/clean_data/item1_business/BKI_section_1.txt\n",
      "/Users/davidren/Desktop/Education/KTH/2019-2020/2020 Spring/Master Thesis/Data/clean_data/item1_business/CARG_section_1.txt\n",
      "/Users/davidren/Desktop/Education/KTH/2019-2020/2020 Spring/Master Thesis/Data/clean_data/item1_business/CARS_section_0.txt\n",
      "/Users/davidren/Desktop/Education/KTH/2019-2020/2020 Spring/Master Thesis/Data/clean_data/item1_business/CI_section_10.txt\n",
      "/Users/davidren/Desktop/Education/KTH/2019-2020/2020 Spring/Master Thesis/Data/clean_data/item1_business/CI_section_11.txt\n",
      "/Users/davidren/Desktop/Education/KTH/2019-2020/2020 Spring/Master Thesis/Data/clean_data/item1_business/CI_section_12.txt\n",
      "/Users/davidren/Desktop/Education/KTH/2019-2020/2020 Spring/Master Thesis/Data/clean_data/item1_business/CI_section_13.txt\n",
      "/Users/davidren/Desktop/Education/KTH/2019-2020/2020 Spring/Master Thesis/Data/clean_data/item1_business/CI_section_14.txt\n",
      "/Users/davidren/Desktop/Education/KTH/2019-2020/2020 Spring/Master Thesis/Data/clean_data/item1_business/CI_section_15.txt\n",
      "/Users/davidren/Desktop/Education/KTH/2019-2020/2020 Spring/Master Thesis/Data/clean_data/item1_business/CI_section_16.txt\n",
      "/Users/davidren/Desktop/Education/KTH/2019-2020/2020 Spring/Master Thesis/Data/clean_data/item1_business/CI_section_17.txt\n",
      "/Users/davidren/Desktop/Education/KTH/2019-2020/2020 Spring/Master Thesis/Data/clean_data/item1_business/CI_section_18.txt\n",
      "/Users/davidren/Desktop/Education/KTH/2019-2020/2020 Spring/Master Thesis/Data/clean_data/item1_business/CONE_section_0.txt\n",
      "/Users/davidren/Desktop/Education/KTH/2019-2020/2020 Spring/Master Thesis/Data/clean_data/item1_business/CTXS_section_0.txt\n",
      "/Users/davidren/Desktop/Education/KTH/2019-2020/2020 Spring/Master Thesis/Data/clean_data/item1_business/DBX_section_1.txt\n",
      "/Users/davidren/Desktop/Education/KTH/2019-2020/2020 Spring/Master Thesis/Data/clean_data/item1_business/DOCU_section_2.txt\n",
      "/Users/davidren/Desktop/Education/KTH/2019-2020/2020 Spring/Master Thesis/Data/clean_data/item1_business/DT_section_1.txt\n",
      "/Users/davidren/Desktop/Education/KTH/2019-2020/2020 Spring/Master Thesis/Data/clean_data/item1_business/EBIX_section_2.txt\n",
      "/Users/davidren/Desktop/Education/KTH/2019-2020/2020 Spring/Master Thesis/Data/clean_data/item1_business/EQIX_section_1.txt\n",
      "/Users/davidren/Desktop/Education/KTH/2019-2020/2020 Spring/Master Thesis/Data/clean_data/item1_business/EVOP_section_4.txt\n",
      "/Users/davidren/Desktop/Education/KTH/2019-2020/2020 Spring/Master Thesis/Data/clean_data/item1_business/EVTC_section_2.txt\n",
      "/Users/davidren/Desktop/Education/KTH/2019-2020/2020 Spring/Master Thesis/Data/clean_data/item1_business/FB_section_3.txt\n",
      "/Users/davidren/Desktop/Education/KTH/2019-2020/2020 Spring/Master Thesis/Data/clean_data/item1_business/FDX_section_0.txt\n",
      "/Users/davidren/Desktop/Education/KTH/2019-2020/2020 Spring/Master Thesis/Data/clean_data/item1_business/FEYE_section_1.txt\n",
      "/Users/davidren/Desktop/Education/KTH/2019-2020/2020 Spring/Master Thesis/Data/clean_data/item1_business/FFIV_section_1.txt\n",
      "/Users/davidren/Desktop/Education/KTH/2019-2020/2020 Spring/Master Thesis/Data/clean_data/item1_business/FICO_section_2.txt\n",
      "/Users/davidren/Desktop/Education/KTH/2019-2020/2020 Spring/Master Thesis/Data/clean_data/item1_business/FISV_section_1.txt\n",
      "/Users/davidren/Desktop/Education/KTH/2019-2020/2020 Spring/Master Thesis/Data/clean_data/item1_business/FIS_section_3.txt\n",
      "/Users/davidren/Desktop/Education/KTH/2019-2020/2020 Spring/Master Thesis/Data/clean_data/item1_business/FLT_section_1.txt\n",
      "/Users/davidren/Desktop/Education/KTH/2019-2020/2020 Spring/Master Thesis/Data/clean_data/item1_business/FLWS_section_2.txt\n",
      "/Users/davidren/Desktop/Education/KTH/2019-2020/2020 Spring/Master Thesis/Data/clean_data/item1_business/FTNT_section_1.txt\n",
      "/Users/davidren/Desktop/Education/KTH/2019-2020/2020 Spring/Master Thesis/Data/clean_data/item1_business/GDDY_section_3.txt\n",
      "/Users/davidren/Desktop/Education/KTH/2019-2020/2020 Spring/Master Thesis/Data/clean_data/item1_business/GDOT_section_1.txt\n",
      "/Users/davidren/Desktop/Education/KTH/2019-2020/2020 Spring/Master Thesis/Data/clean_data/item1_business/GOOG_section_2.txt\n",
      "/Users/davidren/Desktop/Education/KTH/2019-2020/2020 Spring/Master Thesis/Data/clean_data/item1_business/GPN_section_0.txt\n",
      "/Users/davidren/Desktop/Education/KTH/2019-2020/2020 Spring/Master Thesis/Data/clean_data/item1_business/GWRE_section_2.txt\n",
      "/Users/davidren/Desktop/Education/KTH/2019-2020/2020 Spring/Master Thesis/Data/clean_data/item1_business/IAA_section_2.txt\n",
      "/Users/davidren/Desktop/Education/KTH/2019-2020/2020 Spring/Master Thesis/Data/clean_data/item1_business/IAC_section_2.txt\n",
      "/Users/davidren/Desktop/Education/KTH/2019-2020/2020 Spring/Master Thesis/Data/clean_data/item1_business/IDCC_section_2.txt\n",
      "/Users/davidren/Desktop/Education/KTH/2019-2020/2020 Spring/Master Thesis/Data/clean_data/item1_business/JCOM_section_1.txt\n",
      "/Users/davidren/Desktop/Education/KTH/2019-2020/2020 Spring/Master Thesis/Data/clean_data/item1_business/JNPR_section_1.txt\n",
      "/Users/davidren/Desktop/Education/KTH/2019-2020/2020 Spring/Master Thesis/Data/clean_data/item1_business/MA_section_0.txt\n",
      "/Users/davidren/Desktop/Education/KTH/2019-2020/2020 Spring/Master Thesis/Data/clean_data/item1_business/MELI_section_3.txt\n",
      "/Users/davidren/Desktop/Education/KTH/2019-2020/2020 Spring/Master Thesis/Data/clean_data/item1_business/MIME_section_1.txt\n",
      "/Users/davidren/Desktop/Education/KTH/2019-2020/2020 Spring/Master Thesis/Data/clean_data/item1_business/MTCH_section_1.txt\n",
      "/Users/davidren/Desktop/Education/KTH/2019-2020/2020 Spring/Master Thesis/Data/clean_data/item1_business/NEWR_section_1.txt\n",
      "/Users/davidren/Desktop/Education/KTH/2019-2020/2020 Spring/Master Thesis/Data/clean_data/item1_business/NFLX_section_1.txt\n",
      "/Users/davidren/Desktop/Education/KTH/2019-2020/2020 Spring/Master Thesis/Data/clean_data/item1_business/NLOK_section_1.txt\n",
      "/Users/davidren/Desktop/Education/KTH/2019-2020/2020 Spring/Master Thesis/Data/clean_data/item1_business/NTAP_section_0.txt\n",
      "/Users/davidren/Desktop/Education/KTH/2019-2020/2020 Spring/Master Thesis/Data/clean_data/item1_business/NTCT_section_1.txt\n",
      "/Users/davidren/Desktop/Education/KTH/2019-2020/2020 Spring/Master Thesis/Data/clean_data/item1_business/OSTK_section_1.txt\n",
      "/Users/davidren/Desktop/Education/KTH/2019-2020/2020 Spring/Master Thesis/Data/clean_data/item1_business/PANW_section_1.txt\n",
      "/Users/davidren/Desktop/Education/KTH/2019-2020/2020 Spring/Master Thesis/Data/clean_data/item1_business/PBI_section_0.txt\n",
      "/Users/davidren/Desktop/Education/KTH/2019-2020/2020 Spring/Master Thesis/Data/clean_data/item1_business/PFPT_section_1.txt\n",
      "/Users/davidren/Desktop/Education/KTH/2019-2020/2020 Spring/Master Thesis/Data/clean_data/item1_business/PINS_section_3.txt\n",
      "/Users/davidren/Desktop/Education/KTH/2019-2020/2020 Spring/Master Thesis/Data/clean_data/item1_business/PSN_section_0.txt\n",
      "/Users/davidren/Desktop/Education/KTH/2019-2020/2020 Spring/Master Thesis/Data/clean_data/item1_business/PYPL_section_1.txt\n",
      "/Users/davidren/Desktop/Education/KTH/2019-2020/2020 Spring/Master Thesis/Data/clean_data/item1_business/QLYS_section_1.txt\n",
      "/Users/davidren/Desktop/Education/KTH/2019-2020/2020 Spring/Master Thesis/Data/clean_data/item1_business/QNST_section_1.txt\n",
      "/Users/davidren/Desktop/Education/KTH/2019-2020/2020 Spring/Master Thesis/Data/clean_data/item1_business/QTS_section_2.txt\n",
      "/Users/davidren/Desktop/Education/KTH/2019-2020/2020 Spring/Master Thesis/Data/clean_data/item1_business/QTWO_section_2.txt\n",
      "/Users/davidren/Desktop/Education/KTH/2019-2020/2020 Spring/Master Thesis/Data/clean_data/item1_business/QUOT_section_0.txt\n",
      "/Users/davidren/Desktop/Education/KTH/2019-2020/2020 Spring/Master Thesis/Data/clean_data/item1_business/REAL_section_1.txt\n",
      "/Users/davidren/Desktop/Education/KTH/2019-2020/2020 Spring/Master Thesis/Data/clean_data/item1_business/ROP_section_1.txt\n",
      "/Users/davidren/Desktop/Education/KTH/2019-2020/2020 Spring/Master Thesis/Data/clean_data/item1_business/SFIX_section_1.txt\n",
      "/Users/davidren/Desktop/Education/KTH/2019-2020/2020 Spring/Master Thesis/Data/clean_data/item1_business/SQ_section_1.txt\n",
      "/Users/davidren/Desktop/Education/KTH/2019-2020/2020 Spring/Master Thesis/Data/clean_data/item1_business/SSNC_section_1.txt\n",
      "/Users/davidren/Desktop/Education/KTH/2019-2020/2020 Spring/Master Thesis/Data/clean_data/item1_business/SWCH_section_0.txt\n",
      "/Users/davidren/Desktop/Education/KTH/2019-2020/2020 Spring/Master Thesis/Data/clean_data/item1_business/SWI_section_0.txt\n",
      "/Users/davidren/Desktop/Education/KTH/2019-2020/2020 Spring/Master Thesis/Data/clean_data/item1_business/TENB_section_1.txt\n",
      "/Users/davidren/Desktop/Education/KTH/2019-2020/2020 Spring/Master Thesis/Data/clean_data/item1_business/TRIP_section_1.txt\n",
      "/Users/davidren/Desktop/Education/KTH/2019-2020/2020 Spring/Master Thesis/Data/clean_data/item1_business/TWTR_section_2.txt\n",
      "/Users/davidren/Desktop/Education/KTH/2019-2020/2020 Spring/Master Thesis/Data/clean_data/item1_business/UPS_section_0.txt\n",
      "/Users/davidren/Desktop/Education/KTH/2019-2020/2020 Spring/Master Thesis/Data/clean_data/item1_business/UPS_section_1.txt\n",
      "/Users/davidren/Desktop/Education/KTH/2019-2020/2020 Spring/Master Thesis/Data/clean_data/item1_business/UPS_section_2.txt\n",
      "/Users/davidren/Desktop/Education/KTH/2019-2020/2020 Spring/Master Thesis/Data/clean_data/item1_business/UPS_section_3.txt\n",
      "/Users/davidren/Desktop/Education/KTH/2019-2020/2020 Spring/Master Thesis/Data/clean_data/item1_business/UPS_section_4.txt\n",
      "/Users/davidren/Desktop/Education/KTH/2019-2020/2020 Spring/Master Thesis/Data/clean_data/item1_business/UPS_section_5.txt\n",
      "/Users/davidren/Desktop/Education/KTH/2019-2020/2020 Spring/Master Thesis/Data/clean_data/item1_business/UPS_section_6.txt\n",
      "/Users/davidren/Desktop/Education/KTH/2019-2020/2020 Spring/Master Thesis/Data/clean_data/item1_business/UPS_section_7.txt\n",
      "/Users/davidren/Desktop/Education/KTH/2019-2020/2020 Spring/Master Thesis/Data/clean_data/item1_business/UPS_section_8.txt\n",
      "/Users/davidren/Desktop/Education/KTH/2019-2020/2020 Spring/Master Thesis/Data/clean_data/item1_business/UPS_section_9.txt\n",
      "/Users/davidren/Desktop/Education/KTH/2019-2020/2020 Spring/Master Thesis/Data/clean_data/item1_business/VMW_section_0.txt\n",
      "/Users/davidren/Desktop/Education/KTH/2019-2020/2020 Spring/Master Thesis/Data/clean_data/item1_business/V_section_2.txt\n"
     ]
    },
    {
     "name": "stdout",
     "output_type": "stream",
     "text": [
      "/Users/davidren/Desktop/Education/KTH/2019-2020/2020 Spring/Master Thesis/Data/clean_data/item1_business/WSM_section_0.txt\n",
      "/Users/davidren/Desktop/Education/KTH/2019-2020/2020 Spring/Master Thesis/Data/clean_data/item1_business/W_section_3.txt\n",
      "/Users/davidren/Desktop/Education/KTH/2019-2020/2020 Spring/Master Thesis/Data/clean_data/item1_business/YELP_section_1.txt\n",
      "/Users/davidren/Desktop/Education/KTH/2019-2020/2020 Spring/Master Thesis/Data/clean_data/item1_business/ZG_section_1.txt\n",
      "/Users/davidren/Desktop/Education/KTH/2019-2020/2020 Spring/Master Thesis/Data/clean_data/item1_business/ZS_section_0.txt\n",
      "/Users/davidren/Desktop/Education/KTH/2019-2020/2020 Spring/Master Thesis/Data/clean_data/item1_business/Z_section_1.txt\n"
     ]
    }
   ],
   "source": [
    "my_path = os.path.abspath('')\n",
    "files=get_10k_files()\n",
    "for file in files:\n",
    "    print(file)\n",
    "    write_file(file,data_preprocessing(read_file(file))) "
   ]
  },
  {
   "cell_type": "code",
   "execution_count": 7,
   "metadata": {},
   "outputs": [
    {
     "name": "stdout",
     "output_type": "stream",
     "text": [
      "--- 1.684183120727539 seconds ---\n"
     ]
    }
   ],
   "source": [
    "print(\"--- %s seconds ---\" % (time.time() - start_time))"
   ]
  },
  {
   "cell_type": "code",
   "execution_count": null,
   "metadata": {},
   "outputs": [],
   "source": [
    "rule basaed cleaning\n",
    "replace \\n with space\n",
    ". Cap ->. \\n Cap\n",
    "coreference resolution\n",
    "\n",
    "we,\n",
    "us\n",
    "the company, \n",
    "our\n",
    "ours\n",
    "\n",
    "\n",
    ", Inc\n",
    ", LLC"
   ]
  },
  {
   "cell_type": "code",
   "execution_count": null,
   "metadata": {},
   "outputs": [],
   "source": [
    "\"\"\"\n",
    "my_path = os.path.abspath('')\n",
    "files=get_10k_files()\n",
    "clean_text = data_preprocessing(read_file(files[2]))\n",
    "print(clean_text)\n",
    "\"\"\"\n"
   ]
  },
  {
   "cell_type": "code",
   "execution_count": null,
   "metadata": {
    "scrolled": true
   },
   "outputs": [],
   "source": [
    "\"\"\"\n",
    "print(read_file(files[2]))\n",
    "\"\"\"\n"
   ]
  },
  {
   "cell_type": "code",
   "execution_count": null,
   "metadata": {},
   "outputs": [],
   "source": [
    "\"\"\"\n",
    "string = re.sub(r'^[!-~]',' ',string)\n",
    "print(string)\n",
    "\"\"\""
   ]
  },
  {
   "cell_type": "code",
   "execution_count": null,
   "metadata": {},
   "outputs": [],
   "source": [
    "\"\"\"\n",
    "#get sentence and clean it  \n",
    "#there are cases where there is a \"\\n\" in a sentence \n",
    "my_path = os.path.abspath('')\n",
    "text=open(my_path+\"/clean_data/filing_16/filing_16_section_10.txt\")\n",
    "#text=\"hello\"+'\\s'+\"world\"\n",
    "text = text.read()\n",
    "print(text)\n",
    "\n",
    "#Tokenization\n",
    "#Parts-of-speech or POS\n",
    "\n",
    "\n",
    "#remove page number by identiy the pattern \\nNUMBER\\n\n",
    "#remove special symbol by only allow \\n, space, a-z, 0-9 characters \\nSpecailSymbol\\n or \n",
    "#how to merge sentences without \".\" with sentences with \".\"\n",
    "#if \\n\\n occur, remove them and add space\n",
    "#if bla bla bla. bla bla bla \\n bla bla bla .\\n occur, remove the \n",
    "#remove \\n with space\n",
    "\"\"\""
   ]
  },
  {
   "cell_type": "code",
   "execution_count": null,
   "metadata": {},
   "outputs": [],
   "source": [
    "\"\"\"\n",
    "my_path = os.path.abspath('')\n",
    "file_path = my_path+\"/clean_data/filing_1/filing_1_section_1.txt\"\n",
    "text = read_file(file_path)\n",
    "\n",
    "print(text)\n",
    "\n",
    "\"\"\""
   ]
  },
  {
   "cell_type": "code",
   "execution_count": null,
   "metadata": {
    "scrolled": true
   },
   "outputs": [],
   "source": [
    "\"\"\"\n",
    "text = re.sub(r'\\n\\W\\n', '\\n\\n', text)  # remove non-alphanumeric\n",
    "text = re.sub(r'\\n\\d+\\n', '\\n\\n', text)  # remove just number line\n",
    "text = re.sub(r'\\t+', ' ', text)  # replace tab with space\n",
    "text = re.sub(r'\\n+', '\\n', text)  # remove multiple newlines\n",
    "# merge splited sentence\n",
    "text = re.sub(r'\\n\\.', '.', text)  \n",
    "text = re.sub(r'\\n,', ',', text)\n",
    "text = re.sub(r'\\n ', ' ', text)\n",
    "text = re.sub(r' \\n ', ' ', text)\n",
    "text = re.sub(r'\\n(?=[a-z])', '', text)#remove new line is the it doesnt start with capital letter\n",
    "text = re.sub(r'\\s\\n', '\\n', text)#remove space before new lines\n",
    "text = re.sub(r'(?<=[^,.!?])(\\n|$)', r'.\\1', text)#add period to new lines\n",
    "print(text)\n",
    "\"\"\""
   ]
  },
  {
   "cell_type": "code",
   "execution_count": null,
   "metadata": {},
   "outputs": [],
   "source": [
    "\"\"\"\n",
    "text = re.sub(r'(?<=[^,.!?])(\\n|$)', r'.\\1', text)\n",
    "\n",
    "print(text)\n",
    "\"\"\""
   ]
  }
 ],
 "metadata": {
  "kernelspec": {
   "display_name": "Python 3",
   "language": "python",
   "name": "python3"
  },
  "language_info": {
   "codemirror_mode": {
    "name": "ipython",
    "version": 3
   },
   "file_extension": ".py",
   "mimetype": "text/x-python",
   "name": "python",
   "nbconvert_exporter": "python",
   "pygments_lexer": "ipython3",
   "version": "3.7.0"
  }
 },
 "nbformat": 4,
 "nbformat_minor": 2
}
