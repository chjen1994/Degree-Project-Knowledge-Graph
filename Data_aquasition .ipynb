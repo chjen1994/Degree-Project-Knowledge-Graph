{
 "cells": [
  {
   "cell_type": "code",
   "execution_count": 10,
   "metadata": {},
   "outputs": [],
   "source": [
    "from bs4 import BeautifulSoup\n",
    "import re\n",
    "import os.path\n",
    "my_path = os.path.abspath('')"
   ]
  },
  {
   "cell_type": "code",
   "execution_count": 11,
   "metadata": {},
   "outputs": [],
   "source": [
    "#Data cleaning approach:\n",
    "\n",
    "#First identify the table of content by regex to get mention of \"Item\" in <Table> <tbody> tag(perhaps extract the table of content)\n",
    "#or search <a href=\"#.....\" util the mention of Item16, signautre\n",
    "#extract all the href in <a> attribute in the table of content (ex. href1, href2, href3 …)\n",
    "\n",
    "#Second have algorithm to identify <a name=\"href1\"> and save the content between href1 and href2, href2 and href3, …\n",
    "\n",
    "#Third, clean the html tags in the contents "
   ]
  },
  {
   "cell_type": "code",
   "execution_count": 13,
   "metadata": {},
   "outputs": [],
   "source": [
    "def load_html(path):\n",
    "    return BeautifulSoup(open(path,\"r\"), 'html.parser')\n",
    "\n",
    "def soup_get_text(soup):\n",
    "    print(soup.get_text())"
   ]
  },
  {
   "cell_type": "code",
   "execution_count": 14,
   "metadata": {},
   "outputs": [],
   "source": [
    "#First extract the location of the table of content \n",
    "# use regex to identify Signature/Item 16 and get everything above\n",
    "#only works with the text and items in table of content contains href#if only in the page number, doesn't work\n",
    "\n",
    "def remove_duplicates_in_list(List):\n",
    "    return list(dict.fromkeys(List))\n",
    "def get_table_of_content_links1(soup):\n",
    "    tag = soup.find('a',string=re.compile(\"Financial Statement Schedules\"))\n",
    "    tag_item = soup.find('a',string=re.compile(\"Item 15\"))\n",
    "    if tag==None and tag_item!=None:\n",
    "        tag = tag_item\n",
    "    \n",
    "    links = list()\n",
    "    links.append(tag.get('href')[1:])\n",
    "    for elements in tag.previous_elements:\n",
    "        if elements.name=='a' and elements.has_attr('href') and elements.get('href')[0]=='#':\n",
    "            #print(elements)\n",
    "            links.append(elements.get('href')[1:])\n",
    "    \n",
    "    links.reverse()\n",
    "    return remove_duplicates_in_list(links)\n",
    "    #print_list(links)\n",
    "\n",
    "#\n",
    "def get_table_of_content_links2(soup):\n",
    "    links = list()\n",
    "    for link in soup.find_all('a'):\n",
    "    #link.get('href')\n",
    "    #print(link.get('href'))\n",
    "    #print(link.get('name'))\n",
    "        if link.get('href')!=None and link.get('href')[0]=='#':\n",
    "            links.append(link.get('href')[1:])\n",
    "    return links\n",
    "# or identify the signature link and use find_previous method to extract:extract()?\n",
    "\n",
    "def print_list(lists):\n",
    "    for list in lists:\n",
    "        print(list)\n"
   ]
  },
  {
   "cell_type": "code",
   "execution_count": 15,
   "metadata": {},
   "outputs": [],
   "source": [
    "#unable to format tables\n",
    "def get_all_sections(sections, links):\n",
    "    for i in range(len(links)):\n",
    "        if i<len(links)-1:\n",
    "            sections.append(get_section(links[i],links[i+1]))\n",
    "        else:\n",
    "            sections.append(get_last_section(links[i]))\n",
    "\n",
    "def get_section(link1, link2):#need to add \"id\"\n",
    "    section_str=\"\"\n",
    "    for link in soup.find_all('a'):\n",
    "        if link.has_attr('name') and link['name']==link1:\n",
    "            for elements in link.next_elements:\n",
    "                if elements.name=='a' and elements.has_attr('name') and elements['name']==link2:\n",
    "                    break \n",
    "                if str(elements)[0] != '<':\n",
    "                    section_str = section_str + str(elements)\n",
    "                    #print(repr(elements))\n",
    "            #Sections = Sections + str(elements)\n",
    "            break\n",
    "        elif link.has_attr('id') and link['id']==link1:\n",
    "            for elements in link.next_elements:\n",
    "                if elements.name=='a' and elements.has_attr('id') and elements['id']==link2:\n",
    "                    break \n",
    "                if str(elements)[0] != '<':\n",
    "                    section_str = section_str + str(elements)\n",
    "                    #print(repr(elements))\n",
    "            #Sections = Sections + str(elements)\n",
    "            break\n",
    "    return section_str\n",
    "\n",
    "def get_last_section(link1):\n",
    "    section_str=\"\"\n",
    "    for link in soup.find_all('a'):\n",
    "        if link.has_attr('name') and link['name']==link1:\n",
    "            for elements in link.next_elements:\n",
    "                if str(elements)[0] != '<':\n",
    "                    section_str = section_str + str(elements)\n",
    "                    #print(repr(elements))\n",
    "            #Sections = Sections + str(elements)\n",
    "            break\n",
    "        elif link.has_attr('id') and link['id']==link1:\n",
    "            for elements in link.next_elements:\n",
    "                if str(elements)[0] != '<':\n",
    "                    section_str = section_str + str(elements)\n",
    "                    #print(repr(elements))\n",
    "            #Sections = Sections + str(elements)\n",
    "            break\n",
    "    return section_str"
   ]
  },
  {
   "cell_type": "code",
   "execution_count": 22,
   "metadata": {},
   "outputs": [],
   "source": [
    "def file_reader(path):\n",
    "    files = []\n",
    "    for r,d,f in os.walk(path):\n",
    "        for file in f:\n",
    "            if '.txt' in file:\n",
    "                files.append(os.path.join(r,file))\n",
    "                \n",
    "    return files"
   ]
  },
  {
   "cell_type": "code",
   "execution_count": 16,
   "metadata": {},
   "outputs": [],
   "source": [
    "MSFT_1_path='sec_edgar_filings/MSFT/10-K/0001193125-15-272806.txt'\n",
    "MSFT_2_path=\"sec_edgar_filings/MSFT/10-K/0001564590-18-019062.txt\"\n",
    "APPL_1_path='sec_edgar_filings/AAPL/10-K/0000320193-19-000119.txt'\n",
    "APPL_2_path='sec_edgar_filings/AAPL/10-K/0000320193-18-000145.txt'\n",
    "VISA_1_path='sec_edgar_filings/V/10-K/0001403161-18-000055.txt'\n",
    "VISA_2_path='sec_edgar_filings/V/10-K/0001403161-19-000050.txt'\n",
    "GOOG_1_path='sec_edgar_filings/GOOG/10-K/0001652044-19-000004.txt'\n",
    "GOOG_2_path='sec_edgar_filings/GOOG/10-K/0001652044-20-000008.txt'\n",
    "BLK_1_path='sec_edgar_filings/BLK/10-K/0001564590-19-005479.txt'\n",
    "BLK_2_path='sec_edgar_filings/BLK/10-K/0001564590-20-007807.txt'\n",
    "BA_1_path='sec_edgar_filings/BA/10-K/0000012927-19-000010.txt'\n",
    "BA_2_path='sec_edgar_filings/BA/10-K/0000012927-20-000014.txt'\n",
    "FORD_1_path='sec_edgar_filings/F/10-K/0000037996-20-000010.txt'\n",
    "FORD_2_path='sec_edgar_filings/F/10-K/0000037996-19-000012.txt'\n",
    "\n",
    "soup=load_html(MSFT_1_path)\n",
    "#soup_get_text(soup)\n",
    "#visa, msft, goog, blk work\n",
    "#, ba_1_path uses <a id=\"links\">\n",
    "#ford dont work cuz href is at the page number in toc\n"
   ]
  },
  {
   "cell_type": "code",
   "execution_count": 23,
   "metadata": {},
   "outputs": [],
   "source": [
    "files = [];\n",
    "files = file_reader(my_path+\"/sec_edgar_filings\")\n",
    "files\n",
    "soup=load_html(files[0])"
   ]
  },
  {
   "cell_type": "code",
   "execution_count": 24,
   "metadata": {},
   "outputs": [
    {
     "name": "stdout",
     "output_type": "stream",
     "text": [
      "sE45D95EC302C53F3999A16F238922716\n",
      "s8FA93AA667C0535398014FA54B397439\n",
      "s107EA6B564A4575DA42B4A73ACD9C71A\n",
      "s09BC0FC06350577DAA71D344EA07A929\n",
      "s91DF3ECA7CDE54B296324D6C925A3A64\n",
      "sE96BF62935E55A508C134F5B2F0CA85E\n",
      "sD33472E8BE865C43851A1C3B62FDB2D2\n",
      "s441770BCD3195825A459C905D90A255A\n",
      "sF8C8F387D3165D459768F3D870FAEA13\n",
      "sEDE9BAA1C9E05AB4843082ACD6A97FE3\n",
      "s86531024D4355D39AEEBA31406A0E758\n",
      "s37F84E3E4CEC530F9DE46181A4344271\n",
      "sDBCC0D7FC5D05F49A572F9AA0627E992\n",
      "s6B01DE738B9E59FF8C3F8CFE9C9E0B79\n",
      "sA9A243DA245A56F5AC25705E9A3D277F\n",
      "s05D204CD87755D688D28C56362110879\n",
      "s046E02B1765C5FC98134C77D8F55508A\n",
      "sF9CD356C29FA5DC18DCAC248942C78F9\n",
      "sD1B069C378005F3AB1606C1AADA06047\n",
      "s196AADBFDD535C31B8B9CD690EED64EC\n",
      "sC8A90ABF36F05F8CBA046AD164ED5378\n",
      "sFEE386E5673257028D26E7FE59FD1E21\n",
      "s49498D0CD5C959CA84C417CEA46A6953\n",
      "sC8BE3318CBF05904A4195064A5A404FE\n",
      "24\n"
     ]
    }
   ],
   "source": [
    "links = get_table_of_content_links1(soup)\n",
    "print_list(links)\n",
    "print(len(links))"
   ]
  },
  {
   "cell_type": "code",
   "execution_count": 25,
   "metadata": {},
   "outputs": [],
   "source": [
    "sections=list()\n",
    "get_all_sections(sections,links)"
   ]
  },
  {
   "cell_type": "code",
   "execution_count": 26,
   "metadata": {},
   "outputs": [
    {
     "name": "stdout",
     "output_type": "stream",
     "text": [
      "Item 1.BusinessCompany BackgroundThe Company designs, manufactures and markets smartphones, personal computers, tablets, wearables and accessories, and sells a variety of related services. The Company’s fiscal year is the 52- or 53-week period that ends on the last Saturday of September. The Company is a California corporation established in 1977.ProductsiPhoneiPhone® is the Company’s line of smartphones based on its iOS operating system. In September 2019, the Company introduced three new iPhones: iPhone 11, iPhone 11 Pro and iPhone 11 Pro Max.MacMac® is the Company’s line of personal computers based on its macOS® operating system. During 2019, the Company released a new version of MacBook Air® and a new Mac mini®, and introduced an updated Mac Pro®, which is expected to be available in the fall of 2019.iPadiPad® is the Company’s line of multi-purpose tablets. iPad is based on the Company’s iPadOS™ operating system, which was introduced during 2019. Also during 2019, the Company released two new versions of iPad Pro®, an iPad Air®, an updated iPad mini® and a new 10.2-inch iPad.Wearables, Home and AccessoriesWearables, Home and Accessories includes AirPods®, Apple TV®, Apple Watch®, Beats® products, HomePod™, iPod touch® and other Apple-branded and third-party accessories. AirPods are the Company’s wireless headphones that interact with Siri. In October 2019, the Company introduced AirPods Pro™. Apple Watch is a personal electronic device that combines the watchOS® user interface and other technologies created specifically for a smaller device. In September 2019, the Company introduced Apple Watch Series 5.ServicesDigital Content Stores and Streaming ServicesThe Company operates various platforms that allow customers to discover and download applications and digital content, such as books, music, video, games and podcasts. These platforms include the App Store®, available for iPhone and iPad, the Mac App Store, the TV App Store and the Watch App Store.The Company also offers subscription-based digital content streaming services, including Apple Music®, which offers users a curated listening experience with on-demand radio stations, and Apple TV+, which offers exclusive original content, and is expected to be available in November 2019.Apple Inc. | 2019 Form 10-K | 1AppleCareAppleCare® includes AppleCare + (“AC+”) and the AppleCare Protection Plan, which are fee-based services that extend the coverage of phone support eligibility and hardware repairs. AC+ offers additional coverage for instances of accidental damage and is available in certain countries for certain products. Additionally, AC+ with theft and loss protection is available for iPhone in the U.S.iCloudiCloud® is the Company’s cloud service, which stores music, photos, contacts, calendars, mail, documents and more, keeping them up-to-date and available across multiple Apple devices and Windows personal computers.LicensingThe Company licenses the use of certain of its intellectual property, and provides other related services.Other ServicesThe Company delivers a variety of other services available in certain countries, including Apple Arcade™, a game subscription service; Apple Card™, a co-branded credit card; Apple News+, a subscription news and magazine service; and Apple Pay, a cashless payment service.Markets and DistributionThe Company’s customers are primarily in the consumer, small and mid-sized business, education, enterprise and government markets. The Company sells its products and resells third-party products in most of its major markets directly to consumers, small and mid-sized businesses, and education, enterprise and government customers through its retail and online stores and its direct sales force. The Company also employs a variety of indirect distribution channels, such as third-party cellular network carriers, wholesalers, retailers and resellers. During 2019, the Company’s net sales through its direct and indirect distribution channels accounted for 31% and 69%, respectively, of total net sales.No single customer accounted for more than 10% of net sales in 2019, 2018 and 2017.CompetitionThe markets for the Company’s products and services are highly competitive and the Company is confronted by aggressive competition in all areas of its business. These markets are characterized by frequent product introductions and rapid technological advances that have substantially increased the capabilities and use of smartphones, personal computers, tablets and other electronic devices. Many of the Company’s competitors that sell mobile devices and personal computers based on other operating systems seek to compete primarily through aggressive pricing and very low cost structures. Principal competitive factors important to the Company include price, product and service features (including security features), relative price and performance, product and service quality and reliability, design innovation, a strong third-party software and accessories ecosystem, marketing and distribution capability, service and support, and corporate reputation.The Company is focused on expanding its market opportunities related to smartphones, personal computers, tablets and other electronic devices. These markets are highly competitive and include many large, well-funded and experienced participants. The Company expects competition in these markets to intensify significantly as competitors imitate features of the Company’s products and applications within their products, or collaborate to offer solutions that are more competitive than those they currently offer. These markets are characterized by aggressive price competition, frequent product introductions, evolving design approaches and technologies, rapid adoption of technological advancements by competitors, and price sensitivity on the part of consumers and businesses.The Company’s services also face substantial competition, including from companies that have significant resources and experience and have established service offerings with large customer bases. The Company competes with business models that provide content to users for free. The Company also competes with illegitimate means to obtain third-party digital content and applications.The Company believes it offers superior innovation and integration of the entire solution, including hardware, software and services. Some of the Company’s current and potential competitors have substantial resources and may be able to provide such products and services at little or no profit, or even at a loss, to compete with the Company’s offerings.Apple Inc. | 2019 Form 10-K | 2Supply of ComponentsAlthough most components essential to the Company’s business are generally available from multiple sources, certain components are currently obtained from single or limited sources. The Company also competes for various components with other participants in the markets for smartphones, personal computers, tablets and other electronic devices. Therefore, many components used by the Company, including those that are available from multiple sources, are at times subject to industry-wide shortage and significant commodity pricing fluctuations.The Company uses some custom components that are not commonly used by its competitors, and new products introduced by the Company often utilize custom components available from only one source. When a component or product uses new technologies, initial capacity constraints may exist until the suppliers’ yields have matured or their manufacturing capacities have increased. The continued availability of these components at acceptable prices, or at all, may be affected if suppliers decide to concentrate on the production of common components instead of components customized to meet the Company’s requirements.The Company has entered into agreements for the supply of many components; however, there can be no guarantee that the Company will be able to extend or renew these agreements on similar terms, or at all.Substantially all of the Company’s hardware products are manufactured by outsourcing partners that are located primarily in Asia, with some Mac computers manufactured in the U.S. and Ireland.Research and DevelopmentBecause the industries in which the Company competes are characterized by rapid technological advances, the Company’s ability to compete successfully depends heavily upon its ability to ensure a continual and timely flow of competitive products, services and technologies to the marketplace. The Company continues to develop new technologies to enhance existing products and services, and to expand the range of its offerings through research and development (“R&D”), licensing of intellectual property and acquisition of third-party businesses and technology.Intellectual PropertyThe Company currently holds a broad collection of intellectual property rights relating to certain aspects of its hardware devices, accessories, software and services. This includes patents, copyrights, trademarks, service marks, trade dress and other forms of intellectual property rights in the U.S. and various foreign countries. Although the Company believes the ownership of such intellectual property rights is an important factor in its business and that its success does depend in part on such ownership, the Company relies primarily on the innovative skills, technical competence and marketing abilities of its personnel.The Company regularly files patent applications to protect innovations arising from its research, development and design, and is currently pursuing thousands of patent applications around the world. Over time, the Company has accumulated a large portfolio of issued patents, including utility patents, design patents and others. The Company also holds copyrights relating to certain aspects of its products and services. No single intellectual property right is solely responsible for protecting the Company’s products. The Company believes the duration of its intellectual property rights is adequate relative to the expected lives of its products.In addition to Company-owned intellectual property, many of the Company’s products and services are designed to include intellectual property owned by third parties. It may be necessary in the future to seek or renew licenses relating to various aspects of the Company’s products, processes and services. While the Company has generally been able to obtain such licenses on commercially reasonable terms in the past, there is no guarantee that such licenses could be obtained in the future on reasonable terms or at all.Business Seasonality and Product IntroductionsThe Company has historically experienced higher net sales in its first quarter compared to other quarters in its fiscal year due in part to seasonal holiday demand. Additionally, new product and service introductions can significantly impact net sales, cost of sales and operating expenses. The timing of product introductions can also impact the Company’s net sales to its indirect distribution channels as these channels are filled with new inventory following a product launch, and channel inventory of an older product often declines as the launch of a newer product approaches. Net sales can also be affected when consumers and distributors anticipate a product introduction.EmployeesAs of September 28, 2019, the Company had approximately 137,000 full-time equivalent employees.Apple Inc. | 2019 Form 10-K | 3Available InformationThe Company’s Annual Reports on Form 10-K, Quarterly Reports on Form 10-Q, Current Reports on Form 8-K, and amendments to reports filed pursuant to Sections 13(a) and 15(d) of the Securities Exchange Act of 1934, as amended (the “Exchange Act”), are filed with the Securities and Exchange Commission (the “SEC”). The Company is subject to the informational requirements of the Exchange Act and files or furnishes reports, proxy statements and other information with the SEC. Such reports and other information filed by the Company with the SEC are available free of charge at investor.apple.com/investor-relations/sec-filings/default.aspx when such reports are available on the SEC’s website. The SEC maintains an Internet site that contains reports, proxy and information statements, and other information regarding issuers that file electronically with the SEC at www.sec.gov. The Company periodically provides other information for investors on its corporate website, www.apple.com, and its investor relations website, investor.apple.com. This includes press releases and other information about financial performance, information on corporate governance and details related to the Company’s annual meeting of shareholders. The information contained on the websites referenced in this Form 10-K is not incorporated by reference into this filing. Further, the Company’s references to website URLs are intended to be inactive textual references only.Apple Inc. | 2019 Form 10-K | 4\n"
     ]
    }
   ],
   "source": [
    "print(sections[1])\n",
    "text_file = open(\"sample_KG.txt\", \"w\")\n",
    "text_file.write(sections[1])\n",
    "text_file.close()"
   ]
  },
  {
   "cell_type": "code",
   "execution_count": 10,
   "metadata": {},
   "outputs": [
    {
     "data": {
      "text/plain": [
       "'\\n#get table of content\\n\\n\"identify the mention of Signatures\"\\ntag = soup.find(\\'a\\',string=re.compile(\"Signatures\"))\\n#print(tag)\\nlinks = list()\\nfor elements in tag.previous_elements:\\n    if elements.name==\\'a\\' and elements.has_attr(\\'href\\') and elements.get(\\'href\\')[0]==\\'#\\':\\n        #print(elements)\\n        links.append(elements.get(\\'href\\')[1:])\\n        \\nlinks.reverse()\\n#print_list(links)\\n'"
      ]
     },
     "execution_count": 10,
     "metadata": {},
     "output_type": "execute_result"
    }
   ],
   "source": [
    "\"\"\"\n",
    "#get table of content\n",
    "\n",
    "\"identify the mention of Signatures\"\n",
    "tag = soup.find('a',string=re.compile(\"Signatures\"))\n",
    "#print(tag)\n",
    "links = list()\n",
    "for elements in tag.previous_elements:\n",
    "    if elements.name=='a' and elements.has_attr('href') and elements.get('href')[0]=='#':\n",
    "        #print(elements)\n",
    "        links.append(elements.get('href')[1:])\n",
    "        \n",
    "links.reverse()\n",
    "#print_list(links)\n",
    "\"\"\""
   ]
  },
  {
   "cell_type": "code",
   "execution_count": 11,
   "metadata": {},
   "outputs": [
    {
     "data": {
      "text/plain": [
       "'\\nsoup = BeautifulSoup(open(\"/Users/davidren/Desktop/Education/KTH/2019-2020/2020 Spring/Master Thesis/Data/sec_edgar_filings/MSFT/10-K/0001564590-19-027952.txt\"), \\'html.parser\\')\\n#print(soup.prettify())\\nprint(soup.get_text())\\n'"
      ]
     },
     "execution_count": 11,
     "metadata": {},
     "output_type": "execute_result"
    }
   ],
   "source": [
    "#load the html\n",
    "\"\"\"\n",
    "soup = BeautifulSoup(open(\"/Users/davidren/Desktop/Education/KTH/2019-2020/2020 Spring/Master Thesis/Data/sec_edgar_filings/MSFT/10-K/0001564590-19-027952.txt\"), 'html.parser')\n",
    "#print(soup.prettify())\n",
    "print(soup.get_text())\n",
    "\"\"\"\n",
    "\n"
   ]
  },
  {
   "cell_type": "code",
   "execution_count": 12,
   "metadata": {},
   "outputs": [
    {
     "data": {
      "text/plain": [
       "\"\\n#get all href from the table of content \\nLinks = list()\\nfor link in soup.find_all('a'):\\n    #link.get('href')\\n    #print(link.get('href'))\\n    #print(link.get('name'))\\n    if link.get('href')!=None and link.get('href')[0]=='#':\\n        Links.append(link.get('href')[1:])\\nfor link in Links:\\n    print(link)\\n        \\n    #remove the '#' and store them in a list\\n\""
      ]
     },
     "execution_count": 12,
     "metadata": {},
     "output_type": "execute_result"
    }
   ],
   "source": [
    "\"\"\"\n",
    "#get all href from the table of content \n",
    "Links = list()\n",
    "for link in soup.find_all('a'):\n",
    "    #link.get('href')\n",
    "    #print(link.get('href'))\n",
    "    #print(link.get('name'))\n",
    "    if link.get('href')!=None and link.get('href')[0]=='#':\n",
    "        Links.append(link.get('href')[1:])\n",
    "for link in Links:\n",
    "    print(link)\n",
    "        \n",
    "    #remove the '#' and store them in a list\n",
    "\"\"\""
   ]
  },
  {
   "cell_type": "code",
   "execution_count": 13,
   "metadata": {
    "scrolled": true
   },
   "outputs": [
    {
     "data": {
      "text/plain": [
       "'\\nSections=\"\"\\nfor link in soup.find_all(\\'a\\'):\\n    if link.has_attr(\\'name\\') and link[\\'name\\']==\\'ITEM_1_BUSINESS\\':\\n        for elements in link.next_elements:\\n            if elements.name==\\'a\\' and elements.has_attr(\\'name\\') and elements[\\'name\\']==\\'ITEM_1B_UNRESOLVED_STAFF_COMMENTS\\':\\n                break\\n                \\n            \\n            if str(elements)[0] != \\'<\\':\\n                Sections = Sections + str(elements)\\n                print(repr(elements))\\n            #Sections = Sections + str(elements)\\n            \\n        break\\n'"
      ]
     },
     "execution_count": 13,
     "metadata": {},
     "output_type": "execute_result"
    }
   ],
   "source": [
    "#get section \n",
    "#example get section between Item 1 and Item 1A\n",
    "\n",
    "#Problem also get the sentences\n",
    "\"\"\"\n",
    "Sections=\"\"\n",
    "for link in soup.find_all('a'):\n",
    "    if link.has_attr('name') and link['name']=='ITEM_1_BUSINESS':\n",
    "        for elements in link.next_elements:\n",
    "            if elements.name=='a' and elements.has_attr('name') and elements['name']=='ITEM_1B_UNRESOLVED_STAFF_COMMENTS':\n",
    "                break\n",
    "                \n",
    "            \n",
    "            if str(elements)[0] != '<':\n",
    "                Sections = Sections + str(elements)\n",
    "                print(repr(elements))\n",
    "            #Sections = Sections + str(elements)\n",
    "            \n",
    "        break\n",
    "\"\"\"\n"
   ]
  }
 ],
 "metadata": {
  "kernelspec": {
   "display_name": "Python 3",
   "language": "python",
   "name": "python3"
  },
  "language_info": {
   "codemirror_mode": {
    "name": "ipython",
    "version": 3
   },
   "file_extension": ".py",
   "mimetype": "text/x-python",
   "name": "python",
   "nbconvert_exporter": "python",
   "pygments_lexer": "ipython3",
   "version": "3.7.0"
  }
 },
 "nbformat": 4,
 "nbformat_minor": 2
}
