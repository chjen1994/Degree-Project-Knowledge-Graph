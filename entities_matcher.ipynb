{
 "cells": [
  {
   "cell_type": "code",
   "execution_count": null,
   "metadata": {},
   "outputs": [],
   "source": [
    "from spacy.matcher import Matcher\n",
    "matcher = Matcher(nlp.vocab)\n",
    "pattern0 = [{\"LEMMA\": \"love\", \"POS\": \"VERB\"},{\"POS\": \"NOUN\"}]\n",
    "pattern1 = [\n",
    "    {\"LEMMA\": \"buy\"},{\"POS\": \"DET\", \"OP\": \"?\"},  # optional: match 0 or 1 times\n",
    "    {\"POS\": \"NOUN\"}]\n",
    "\n",
    "pattern2 = [{\"LOWER\": \"iphone\"}, {\"LOWER\": \"x\"}]\n",
    "pattern3 = [{\"LOWER\": \"iphone\"}, {\"IS_DIGIT\": True}]\n",
    "pattern4 = [{\"ORTH\": \"Windows\"}, {\"IS_TITLE\": True}]\n",
    "pattern4 = [{\"ORTH\": \"Windows\"}, {\"IS_UPPER\": True}]\n",
    "matcher.add(\"PRODUCT\", None, pattern3, pattern2)\n",
    "matcher.add(\"\", None, pattern0, pattern1)\n",
    "\n",
    "for sent in doc.sents:\n",
    "    # Match on the doc and create a list of matched spans\n",
    "    spans = [sent[start:end] for match_id, start, end in matcher(sent)]"
   ]
  }
 ],
 "metadata": {
  "kernelspec": {
   "display_name": "Python 3",
   "language": "python",
   "name": "python3"
  },
  "language_info": {
   "codemirror_mode": {
    "name": "ipython",
    "version": 3
   },
   "file_extension": ".py",
   "mimetype": "text/x-python",
   "name": "python",
   "nbconvert_exporter": "python",
   "pygments_lexer": "ipython3",
   "version": "3.7.0"
  }
 },
 "nbformat": 4,
 "nbformat_minor": 2
}
