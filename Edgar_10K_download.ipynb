{
 "cells": [
  {
   "cell_type": "code",
   "execution_count": 1,
   "metadata": {},
   "outputs": [],
   "source": [
    "import os\n",
    "from sec_edgar_downloader import Downloader\n",
    "from bs4 import BeautifulSoup\n",
    "import os.path\n",
    "my_path = os.path.abspath('')"
   ]
  },
  {
   "cell_type": "code",
   "execution_count": 2,
   "metadata": {},
   "outputs": [],
   "source": [
    "#store all the txt files' paths\n",
    "def file_reader(path):\n",
    "    files = []\n",
    "    for r,d,f in os.walk(path):\n",
    "        for file in f:\n",
    "            if '.txt' in file:\n",
    "                files.append(os.path.join(r,file))\n",
    "                \n",
    "    return files\n",
    "def download_10k(ticker, number):\n",
    "    dl=Downloader(my_path)\n",
    "    #get(\"filings type\",\"ticker(Stock symbol)\", number of docs)\n",
    "    dl.get(\"10-K\", ticker, number)"
   ]
  },
  {
   "cell_type": "code",
   "execution_count": 3,
   "metadata": {},
   "outputs": [
    {
     "name": "stdout",
     "output_type": "stream",
     "text": [
      "--- 135.57589387893677 seconds ---\n"
     ]
    }
   ],
   "source": [
    "import time\n",
    "import pandas as pd\n",
    "\n",
    "start_time = time.time()\n",
    "df = pd.read_csv(\"DGTL_holdings.csv\") \n",
    "#https://www.blackrock.com/ch/individual/en/products/284217/\n",
    "\n",
    "company_list = list()\n",
    "for index, row in df.iterrows():\n",
    "    if row['Location'] == \"United States\" and row[\"Exchange\"]!=\"-\":\n",
    "        company_list.append(row['Issuer Ticker'])\n",
    "\n",
    "#print(company_list)        \n",
    "        \n",
    "for ticker in company_list:\n",
    "    download_10k(ticker, 1)\n",
    "\n",
    "print(\"--- %s seconds ---\" % (time.time() - start_time))"
   ]
  },
  {
   "cell_type": "code",
   "execution_count": 4,
   "metadata": {},
   "outputs": [
    {
     "data": {
      "text/plain": [
       "['/Users/davidren/Desktop/Education/KTH/2019-2020/2020 Spring/Master Thesis/Data/sec_edgar_filings/AMZN/10-K/0001018724-20-000004.txt',\n",
       " '/Users/davidren/Desktop/Education/KTH/2019-2020/2020 Spring/Master Thesis/Data/sec_edgar_filings/PANW/10-K/0001327567-19-000032.txt',\n",
       " '/Users/davidren/Desktop/Education/KTH/2019-2020/2020 Spring/Master Thesis/Data/sec_edgar_filings/PINS/10-K/0001506293-20-000013.txt',\n",
       " '/Users/davidren/Desktop/Education/KTH/2019-2020/2020 Spring/Master Thesis/Data/sec_edgar_filings/TENB/10-K/0001660280-20-000012.txt',\n",
       " '/Users/davidren/Desktop/Education/KTH/2019-2020/2020 Spring/Master Thesis/Data/sec_edgar_filings/ADS/10-K/0001101215-20-000049.txt',\n",
       " '/Users/davidren/Desktop/Education/KTH/2019-2020/2020 Spring/Master Thesis/Data/sec_edgar_filings/CVNA/10-K/0001690820-20-000052.txt',\n",
       " '/Users/davidren/Desktop/Education/KTH/2019-2020/2020 Spring/Master Thesis/Data/sec_edgar_filings/IAA/10-K/0001745041-20-000003.txt',\n",
       " '/Users/davidren/Desktop/Education/KTH/2019-2020/2020 Spring/Master Thesis/Data/sec_edgar_filings/OSTK/10-K/0001130713-20-000014.txt',\n",
       " '/Users/davidren/Desktop/Education/KTH/2019-2020/2020 Spring/Master Thesis/Data/sec_edgar_filings/QTWO/10-K/0001410384-20-000025.txt',\n",
       " '/Users/davidren/Desktop/Education/KTH/2019-2020/2020 Spring/Master Thesis/Data/sec_edgar_filings/GOOG/10-K/0001652044-20-000008.txt',\n",
       " '/Users/davidren/Desktop/Education/KTH/2019-2020/2020 Spring/Master Thesis/Data/sec_edgar_filings/GWRE/10-K/0001528396-19-000032.txt',\n",
       " '/Users/davidren/Desktop/Education/KTH/2019-2020/2020 Spring/Master Thesis/Data/sec_edgar_filings/WSM/10-K/0001193125-20-088937.txt',\n",
       " '/Users/davidren/Desktop/Education/KTH/2019-2020/2020 Spring/Master Thesis/Data/sec_edgar_filings/UPS/10-K/0001090727-20-000005.txt',\n",
       " '/Users/davidren/Desktop/Education/KTH/2019-2020/2020 Spring/Master Thesis/Data/sec_edgar_filings/SQ/10-K/0001628280-20-002303.txt',\n",
       " '/Users/davidren/Desktop/Education/KTH/2019-2020/2020 Spring/Master Thesis/Data/sec_edgar_filings/GPN/10-K/0001123360-20-000009.txt',\n",
       " '/Users/davidren/Desktop/Education/KTH/2019-2020/2020 Spring/Master Thesis/Data/sec_edgar_filings/MA/10-K/0001141391-20-000032.txt',\n",
       " '/Users/davidren/Desktop/Education/KTH/2019-2020/2020 Spring/Master Thesis/Data/sec_edgar_filings/FIS/10-K/0001136893-20-000032.txt',\n",
       " '/Users/davidren/Desktop/Education/KTH/2019-2020/2020 Spring/Master Thesis/Data/sec_edgar_filings/JNPR/10-K/0001043604-20-000021.txt',\n",
       " '/Users/davidren/Desktop/Education/KTH/2019-2020/2020 Spring/Master Thesis/Data/sec_edgar_filings/SWCH/10-K/0001710583-20-000007.txt',\n",
       " '/Users/davidren/Desktop/Education/KTH/2019-2020/2020 Spring/Master Thesis/Data/sec_edgar_filings/NTAP/10-K/0001564590-20-029349.txt',\n",
       " '/Users/davidren/Desktop/Education/KTH/2019-2020/2020 Spring/Master Thesis/Data/sec_edgar_filings/FICO/10-K/0000814547-19-000016.txt',\n",
       " '/Users/davidren/Desktop/Education/KTH/2019-2020/2020 Spring/Master Thesis/Data/sec_edgar_filings/AKAM/10-K/0001086222-20-000045.txt',\n",
       " '/Users/davidren/Desktop/Education/KTH/2019-2020/2020 Spring/Master Thesis/Data/sec_edgar_filings/DT/10-K/0001773383-20-000053.txt',\n",
       " '/Users/davidren/Desktop/Education/KTH/2019-2020/2020 Spring/Master Thesis/Data/sec_edgar_filings/FLWS/10-K/0001437749-19-018360.txt',\n",
       " '/Users/davidren/Desktop/Education/KTH/2019-2020/2020 Spring/Master Thesis/Data/sec_edgar_filings/MELI/10-K/0001562762-20-000055.txt',\n",
       " '/Users/davidren/Desktop/Education/KTH/2019-2020/2020 Spring/Master Thesis/Data/sec_edgar_filings/EVBG/10-K/0001564590-20-007797.txt',\n",
       " '/Users/davidren/Desktop/Education/KTH/2019-2020/2020 Spring/Master Thesis/Data/sec_edgar_filings/ACIW/10-K/0000935036-20-000009.txt',\n",
       " '/Users/davidren/Desktop/Education/KTH/2019-2020/2020 Spring/Master Thesis/Data/sec_edgar_filings/CI/10-K/0001739940-20-000006.txt',\n",
       " '/Users/davidren/Desktop/Education/KTH/2019-2020/2020 Spring/Master Thesis/Data/sec_edgar_filings/REAL/10-K/0001564590-20-010131.txt',\n",
       " '/Users/davidren/Desktop/Education/KTH/2019-2020/2020 Spring/Master Thesis/Data/sec_edgar_filings/JKHY/10-K/0000779152-19-000048.txt',\n",
       " '/Users/davidren/Desktop/Education/KTH/2019-2020/2020 Spring/Master Thesis/Data/sec_edgar_filings/QLYS/10-K/0001628280-20-001963.txt',\n",
       " '/Users/davidren/Desktop/Education/KTH/2019-2020/2020 Spring/Master Thesis/Data/sec_edgar_filings/WEX/10-K/0001309108-20-000024.txt',\n",
       " '/Users/davidren/Desktop/Education/KTH/2019-2020/2020 Spring/Master Thesis/Data/sec_edgar_filings/NTCT/10-K/0001628280-20-008116.txt',\n",
       " '/Users/davidren/Desktop/Education/KTH/2019-2020/2020 Spring/Master Thesis/Data/sec_edgar_filings/FB/10-K/0001326801-20-000013.txt',\n",
       " '/Users/davidren/Desktop/Education/KTH/2019-2020/2020 Spring/Master Thesis/Data/sec_edgar_filings/YELP/10-K/0001345016-20-000009.txt',\n",
       " '/Users/davidren/Desktop/Education/KTH/2019-2020/2020 Spring/Master Thesis/Data/sec_edgar_filings/NLOK/10-K/0000849399-20-000004.txt',\n",
       " '/Users/davidren/Desktop/Education/KTH/2019-2020/2020 Spring/Master Thesis/Data/sec_edgar_filings/DOCU/10-K/0001261333-20-000033.txt',\n",
       " '/Users/davidren/Desktop/Education/KTH/2019-2020/2020 Spring/Master Thesis/Data/sec_edgar_filings/TWTR/10-K/0001418091-20-000037.txt',\n",
       " '/Users/davidren/Desktop/Education/KTH/2019-2020/2020 Spring/Master Thesis/Data/sec_edgar_filings/CONE/10-K/0001553023-20-000025.txt',\n",
       " '/Users/davidren/Desktop/Education/KTH/2019-2020/2020 Spring/Master Thesis/Data/sec_edgar_filings/EQIX/10-K/0001628280-20-001947.txt',\n",
       " '/Users/davidren/Desktop/Education/KTH/2019-2020/2020 Spring/Master Thesis/Data/sec_edgar_filings/VMW/10-K/0001124610-20-000019.txt',\n",
       " '/Users/davidren/Desktop/Education/KTH/2019-2020/2020 Spring/Master Thesis/Data/sec_edgar_filings/NFLX/10-K/0001065280-20-000040.txt',\n",
       " '/Users/davidren/Desktop/Education/KTH/2019-2020/2020 Spring/Master Thesis/Data/sec_edgar_filings/Z/10-K/0001617640-20-000015.txt',\n",
       " '/Users/davidren/Desktop/Education/KTH/2019-2020/2020 Spring/Master Thesis/Data/sec_edgar_filings/FISV/10-K/0000798354-20-000006.txt',\n",
       " '/Users/davidren/Desktop/Education/KTH/2019-2020/2020 Spring/Master Thesis/Data/sec_edgar_filings/ETSY/10-K/0001370637-20-000046.txt',\n",
       " '/Users/davidren/Desktop/Education/KTH/2019-2020/2020 Spring/Master Thesis/Data/sec_edgar_filings/QTS/10-K/0001558370-20-001789.txt',\n",
       " '/Users/davidren/Desktop/Education/KTH/2019-2020/2020 Spring/Master Thesis/Data/sec_edgar_filings/FFIV/10-K/0001048695-19-000034.txt',\n",
       " '/Users/davidren/Desktop/Education/KTH/2019-2020/2020 Spring/Master Thesis/Data/sec_edgar_filings/EBAY/10-K/0001065088-20-000006.txt',\n",
       " '/Users/davidren/Desktop/Education/KTH/2019-2020/2020 Spring/Master Thesis/Data/sec_edgar_filings/PFPT/10-K/0001564590-20-005557.txt',\n",
       " '/Users/davidren/Desktop/Education/KTH/2019-2020/2020 Spring/Master Thesis/Data/sec_edgar_filings/EBIX/10-K/0000814549-20-000006.txt',\n",
       " '/Users/davidren/Desktop/Education/KTH/2019-2020/2020 Spring/Master Thesis/Data/sec_edgar_filings/PYPL/10-K/0001633917-20-000028.txt',\n",
       " '/Users/davidren/Desktop/Education/KTH/2019-2020/2020 Spring/Master Thesis/Data/sec_edgar_filings/EVTC/10-K/0001559865-20-000006.txt',\n",
       " '/Users/davidren/Desktop/Education/KTH/2019-2020/2020 Spring/Master Thesis/Data/sec_edgar_filings/ZG/10-K/0001617640-20-000015.txt',\n",
       " '/Users/davidren/Desktop/Education/KTH/2019-2020/2020 Spring/Master Thesis/Data/sec_edgar_filings/UPWK/10-K/0001627475-20-000006.txt',\n",
       " '/Users/davidren/Desktop/Education/KTH/2019-2020/2020 Spring/Master Thesis/Data/sec_edgar_filings/NEWR/10-K/0001448056-20-000014.txt',\n",
       " '/Users/davidren/Desktop/Education/KTH/2019-2020/2020 Spring/Master Thesis/Data/sec_edgar_filings/ROP/10-K/0000882835-20-000006.txt',\n",
       " '/Users/davidren/Desktop/Education/KTH/2019-2020/2020 Spring/Master Thesis/Data/sec_edgar_filings/IDCC/10-K/0001405495-20-000007.txt',\n",
       " '/Users/davidren/Desktop/Education/KTH/2019-2020/2020 Spring/Master Thesis/Data/sec_edgar_filings/IAC/10-K/0000891103-20-000004.txt',\n",
       " '/Users/davidren/Desktop/Education/KTH/2019-2020/2020 Spring/Master Thesis/Data/sec_edgar_filings/ZS/10-K/0001713683-19-000030.txt',\n",
       " '/Users/davidren/Desktop/Education/KTH/2019-2020/2020 Spring/Master Thesis/Data/sec_edgar_filings/TRIP/10-K/0001564590-20-005269.txt',\n",
       " '/Users/davidren/Desktop/Education/KTH/2019-2020/2020 Spring/Master Thesis/Data/sec_edgar_filings/ALRM/10-K/0001459200-20-000005.txt',\n",
       " '/Users/davidren/Desktop/Education/KTH/2019-2020/2020 Spring/Master Thesis/Data/sec_edgar_filings/FTNT/10-K/0001262039-20-000011.txt',\n",
       " '/Users/davidren/Desktop/Education/KTH/2019-2020/2020 Spring/Master Thesis/Data/sec_edgar_filings/BCOR/10-K/0001068875-20-000056.txt',\n",
       " '/Users/davidren/Desktop/Education/KTH/2019-2020/2020 Spring/Master Thesis/Data/sec_edgar_filings/CARG/10-K/0001564590-20-004805.txt',\n",
       " '/Users/davidren/Desktop/Education/KTH/2019-2020/2020 Spring/Master Thesis/Data/sec_edgar_filings/FLT/10-K/0001175454-20-000008.txt',\n",
       " '/Users/davidren/Desktop/Education/KTH/2019-2020/2020 Spring/Master Thesis/Data/sec_edgar_filings/GRPN/10-K/0001490281-20-000021.txt',\n",
       " '/Users/davidren/Desktop/Education/KTH/2019-2020/2020 Spring/Master Thesis/Data/sec_edgar_filings/CARS/10-K/0001564590-20-006776.txt',\n",
       " '/Users/davidren/Desktop/Education/KTH/2019-2020/2020 Spring/Master Thesis/Data/sec_edgar_filings/JCOM/10-K/0001084048-20-000012.txt',\n",
       " '/Users/davidren/Desktop/Education/KTH/2019-2020/2020 Spring/Master Thesis/Data/sec_edgar_filings/MTCH/10-K/0001575189-20-000018.txt',\n",
       " '/Users/davidren/Desktop/Education/KTH/2019-2020/2020 Spring/Master Thesis/Data/sec_edgar_filings/MIME/10-K/0001564590-20-026744.txt',\n",
       " '/Users/davidren/Desktop/Education/KTH/2019-2020/2020 Spring/Master Thesis/Data/sec_edgar_filings/EVOP/10-K/0001558370-20-001658.txt',\n",
       " '/Users/davidren/Desktop/Education/KTH/2019-2020/2020 Spring/Master Thesis/Data/sec_edgar_filings/GDDY/10-K/0001609711-20-000022.txt',\n",
       " '/Users/davidren/Desktop/Education/KTH/2019-2020/2020 Spring/Master Thesis/Data/sec_edgar_filings/CTXS/10-K/0000877890-20-000051.txt',\n",
       " '/Users/davidren/Desktop/Education/KTH/2019-2020/2020 Spring/Master Thesis/Data/sec_edgar_filings/SFIX/10-K/0001576942-19-000013.txt',\n",
       " '/Users/davidren/Desktop/Education/KTH/2019-2020/2020 Spring/Master Thesis/Data/sec_edgar_filings/FDX/10-K/0001564590-19-025065.txt',\n",
       " '/Users/davidren/Desktop/Education/KTH/2019-2020/2020 Spring/Master Thesis/Data/sec_edgar_filings/PSN/10-K/0001564590-20-009791.txt',\n",
       " '/Users/davidren/Desktop/Education/KTH/2019-2020/2020 Spring/Master Thesis/Data/sec_edgar_filings/GDOT/10-K/0001386278-20-000020.txt',\n",
       " '/Users/davidren/Desktop/Education/KTH/2019-2020/2020 Spring/Master Thesis/Data/sec_edgar_filings/QNST/10-K/0001564590-19-033605.txt',\n",
       " '/Users/davidren/Desktop/Education/KTH/2019-2020/2020 Spring/Master Thesis/Data/sec_edgar_filings/BKI/10-K/0001627014-20-000005.txt',\n",
       " '/Users/davidren/Desktop/Education/KTH/2019-2020/2020 Spring/Master Thesis/Data/sec_edgar_filings/SSNC/10-K/0001564590-20-007695.txt',\n",
       " '/Users/davidren/Desktop/Education/KTH/2019-2020/2020 Spring/Master Thesis/Data/sec_edgar_filings/DBX/10-K/0001467623-20-000011.txt',\n",
       " '/Users/davidren/Desktop/Education/KTH/2019-2020/2020 Spring/Master Thesis/Data/sec_edgar_filings/PBI/10-K/0000078814-20-000009.txt',\n",
       " '/Users/davidren/Desktop/Education/KTH/2019-2020/2020 Spring/Master Thesis/Data/sec_edgar_filings/V/10-K/0001403161-19-000050.txt',\n",
       " '/Users/davidren/Desktop/Education/KTH/2019-2020/2020 Spring/Master Thesis/Data/sec_edgar_filings/FEYE/10-K/0001370880-20-000008.txt',\n",
       " '/Users/davidren/Desktop/Education/KTH/2019-2020/2020 Spring/Master Thesis/Data/sec_edgar_filings/SWI/10-K/0001739942-20-000011.txt',\n",
       " '/Users/davidren/Desktop/Education/KTH/2019-2020/2020 Spring/Master Thesis/Data/sec_edgar_filings/QUOT/10-K/0001564590-20-007918.txt',\n",
       " '/Users/davidren/Desktop/Education/KTH/2019-2020/2020 Spring/Master Thesis/Data/sec_edgar_filings/W/10-K/0001616707-20-000025.txt']"
      ]
     },
     "execution_count": 4,
     "metadata": {},
     "output_type": "execute_result"
    }
   ],
   "source": [
    "files = [];\n",
    "files = file_reader(my_path+\"/sec_edgar_filings\")\n",
    "files"
   ]
  },
  {
   "cell_type": "code",
   "execution_count": 1,
   "metadata": {
    "scrolled": false
   },
   "outputs": [
    {
     "data": {
      "text/plain": [
       "'\\n#dl=Downloader(base_path)\\n#get(\"filings type\",\"ticker(Stock symbol)\", number of docs)\\n#dl.get(\"10-K\", \"F\", 2)\\ndownload_10k(\"MSFT\",5)\\ndownload_10k(\"AAPL\",5)\\ndownload_10k(\"V\",5)\\ndownload_10k(\"GOOG\",5)\\ndownload_10k(\"BLK\",5)\\ndownload_10k(\"BA\",5)\\nfiles = [];\\nfiles = file_reader(my_path+\"/sec_edgar_filings\")\\n'"
      ]
     },
     "execution_count": 1,
     "metadata": {},
     "output_type": "execute_result"
    }
   ],
   "source": [
    "\"\"\"\n",
    "#dl=Downloader(base_path)\n",
    "#get(\"filings type\",\"ticker(Stock symbol)\", number of docs)\n",
    "#dl.get(\"10-K\", \"F\", 2)\n",
    "download_10k(\"MSFT\",5)\n",
    "download_10k(\"AAPL\",5)\n",
    "download_10k(\"V\",5)\n",
    "download_10k(\"GOOG\",5)\n",
    "download_10k(\"BLK\",5)\n",
    "download_10k(\"BA\",5)\n",
    "files = [];\n",
    "files = file_reader(my_path+\"/sec_edgar_filings\")\n",
    "\"\"\"\n",
    "\n"
   ]
  },
  {
   "cell_type": "code",
   "execution_count": null,
   "metadata": {},
   "outputs": [],
   "source": []
  }
 ],
 "metadata": {
  "kernelspec": {
   "display_name": "Python 3",
   "language": "python",
   "name": "python3"
  },
  "language_info": {
   "codemirror_mode": {
    "name": "ipython",
    "version": 3
   },
   "file_extension": ".py",
   "mimetype": "text/x-python",
   "name": "python",
   "nbconvert_exporter": "python",
   "pygments_lexer": "ipython3",
   "version": "3.7.0"
  }
 },
 "nbformat": 4,
 "nbformat_minor": 2
}
